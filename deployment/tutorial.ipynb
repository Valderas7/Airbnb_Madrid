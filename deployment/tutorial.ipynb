{
 "cells": [
  {
   "cell_type": "markdown",
   "metadata": {
    "collapsed": false,
    "jupyter": {
     "outputs_hidden": false
    }
   },
   "source": [
    "# Entrega del modelo (local)"
   ]
  },
  {
   "cell_type": "code",
   "execution_count": null,
   "metadata": {
    "collapsed": false,
    "jupyter": {
     "outputs_hidden": false
    }
   },
   "outputs": [],
   "source": [
    "import mlflow\n",
    "import pandas as pd"
   ]
  },
  {
   "cell_type": "markdown",
   "metadata": {
    "collapsed": false,
    "jupyter": {
     "outputs_hidden": false
    }
   },
   "source": [
    "Para servir el modelo en local con `MLflow` se puede seguir [esta guía](https://mlflow.org/docs/latest/deployment/deploy-model-locally.html). Es importante que se inicie el `tracking` de los recursos de `MLflow` en el directorio adecuado (la carpeta `mlflow`, donde están las carpetas de `mlrun` y `mlartifacts`) y que se inicie la interfaz gráfica (`mlflow ui`) para que se puedan cargar los modelos."
   ]
  },
  {
   "cell_type": "code",
   "execution_count": null,
   "metadata": {
    "collapsed": false,
    "jupyter": {
     "outputs_hidden": false
    }
   },
   "outputs": [],
   "source": [
    "%%bash\n",
    "if [ pwd != 'C:\\Users\\valde\\Desktop\\Airbnb_Madrid\\mlflow' ]\n",
    "then\n",
    "    cd mlflow/\n",
    "fi"
   ]
  },
  {
   "cell_type": "markdown",
   "metadata": {
    "collapsed": false,
    "jupyter": {
     "outputs_hidden": false
    }
   },
   "source": [
    "Primero se comprueba que se puede cargar el modelo de `MLflow` especificando el nombre y su versión y realizando predicciones `offline` por lotes:"
   ]
  },
  {
   "cell_type": "code",
   "execution_count": null,
   "metadata": {
    "collapsed": false,
    "jupyter": {
     "outputs_hidden": false
    }
   },
   "outputs": [],
   "source": [
    "# URL donde se trackea el registro de recursos\n",
    "mlflow.set_tracking_uri(\"http://127.0.0.1:5000\")\n",
    "\n",
    "# Para cargar el modelo hace falta especificar una de estas dos opciones:\n",
    "# - 'runs:/<run_id>/<artifact_path>'\n",
    "# - 'models:/<model_name>/<model_version>'\n",
    "logged_model = 'models:/decision_tree/1'\n",
    "\n",
    "# Este comando es por si acaso para instalar las dependencias del modelo especificado con 'pip'\n",
    "mlflow.pyfunc.get_model_dependencies(logged_model, 'pip')\n",
    "\n",
    "# Carga el modelo de 'Decision Tree' como objeto 'PyFuncModel'\n",
    "loaded_model = mlflow.sklearn.load_model(logged_model)\n",
    "\n",
    "# Predicción con un ejemplo 'raw' (el formato de entrada es un 'dataframe', ya sea de una fila o N filas)\n",
    "loaded_model.predict(pd.DataFrame(columns = [\"square_feet\", \"accommodates\", \"cleaning_fee\", \"beds\", \"availability_30\", \"bedrooms\", \"availability_60\", \"availability_90\", \"availability_365\", \"security_deposit\", \"bathrooms\", \"guests_included\", \"neighbourhood\", \"neighbourhood_group_cleansed\", \"property_type\", \"room_type\", \"amenities\", \"X\", \"Y\", \"Z\", \"date\"],\n",
    "                                  data= [[5.46, 6, 60.0, 4.0, 30, 2.0, 60, 88, 359, 600.0, 2.0, 4, \"Retiro\", \"Retiro\", \"Apartment\", \"Entire home/apt\", 18, 4846242.12107298, -312605.06587381434, 4134833.3663519137, 2]]))"
   ]
  },
  {
   "cell_type": "markdown",
   "metadata": {},
   "source": [
    "Ahora se prueba a servir el modelo con `Flask` en un `endpoint` de un `servicio web` local en el `puerto 1234`:"
   ]
  },
  {
   "cell_type": "code",
   "execution_count": null,
   "metadata": {},
   "outputs": [],
   "source": [
    "# Se establece la variable de entorno para trackear la URL donde el Registro de modelos reside\n",
    "%env MLFLOW_TRACKING_URI=http://localhost:5000\n",
    "\n",
    "# Se sirve el modelo de producción desde el Registro de modelos, con un puerto distinto al que usa MLflow sin entorno Conda\n",
    "!mlflow models serve -m \"models:/decision_tree/1\" -p 1234 #--enable-mlserver"
   ]
  },
  {
   "cell_type": "markdown",
   "metadata": {},
   "source": [
    "El servidor de inferencia tiene 4 `endpoints`:\n",
    "\n",
    "- `/invocations`: Un `endpoint` que acepta peticiones con datos de entrada y que devuelve las predicciones (`POST`).\n",
    "- `/ping`: Para realizar comprobaciones de funcionamiento (`GET`).\n",
    "- `/health`: Lo mismo que en el caso anterior (`GET`).\n",
    "- `/version`: Devuelve la versión de `MLflow` (`GET`)."
   ]
  },
  {
   "cell_type": "markdown",
   "metadata": {},
   "source": [
    "La celda e código anterior está permanentemente en ejecución, ya que el modelo está siendo `servido` en el `puerto 1234` del `localhost`, es decir, en la URL `http://127.0.0.1:1234/`. Por tanto, ahora se puede hacer un `curl` a esta dirección para hacer predicciones o ejecutar un `script` de Python para realizar la inferencia con una solicitud `POST` a la `URL` especificada anteriormente. El `script` sería algo parecido a esto:"
   ]
  },
  {
   "cell_type": "code",
   "execution_count": null,
   "metadata": {},
   "outputs": [],
   "source": [
    "# Librerías\n",
    "import requests\n",
    "import json\n",
    "import numpy as np\n",
    "\n",
    "# URL local donde se sirven las predicciones del modelo\n",
    "url = 'http://127.0.0.1:1234/invocations'\n",
    "\n",
    "# Header para contenido de tipo JSON\n",
    "headers = {'Content-type': 'application/json'}\n",
    "\n",
    "# Datos a los que realizar la inferencia. MUY IMPORTANTE: Seguir el esquema de 'dataframe_split' con 'columns' y 'data'\n",
    "X_test = json.dumps({\n",
    "    \"dataframe_split\": {\n",
    "        \"columns\": [\"square_feet\", \"accommodates\", \"cleaning_fee\", \"beds\", \"availability_30\", \"bedrooms\", \"availability_60\", \"availability_90\", \"availability_365\", \"security_deposit\", \"bathrooms\", \"guests_included\", \"neighbourhood\", \"neighbourhood_group_cleansed\", \"property_type\", \"room_type\", \"amenities\", \"X\", \"Y\", \"Z\", \"date\"], \n",
    "        \"data\": [\n",
    "            [np.nan, 6, 60.0, 4.0, 30, 2.0, 60, 88, 359, 600.0, 2.0, 4, \"Retiro\", \"Retiro\", \"Apartment\", \"Entire home/apt\", 18, 4846242.12107298, -312605.06587381434, 4134833.3663519137, 2], \n",
    "            [np.nan, 6, 60.0, 4.0, 30, 2.0, 60, 88, 359, 600.0, 2.0, 4, \"Retiro\", \"Retiro\", \"Apartment\", \"Entire home/apt\", 18, 4846242.12107298, -312605.06587381434, 4134833.3663519137, 2]\n",
    "            ]\n",
    "    }\n",
    "})                          \n",
    "\n",
    "# Solicitud 'POST' al puerto donde el modelo está siendo expuesto con el 'header' de contenido JSON\n",
    "resp = requests.post(url, headers=headers, data = X_test)\n",
    "\n",
    "# Imprime el contenido de la respuesta\n",
    "print(resp.content)"
   ]
  },
  {
   "cell_type": "markdown",
   "metadata": {},
   "source": [
    "Una alternativa a ejecutar el código de `Python` anterior es realizar la inferencia con un comando `curl` al `localhost`:"
   ]
  },
  {
   "cell_type": "raw",
   "metadata": {},
   "source": [
    "curl http://127.0.0.1:1234/invocations -H \"Content-Type: application/json\" -d '{\"dataframe_split\": {\"columns\": [\"square_feet\", \"accommodates\", \"cleaning_fee\", \"beds\", \"availability_30\", \"bedrooms\", \"availability_60\", \"availability_90\", \"availability_365\", \"security_deposit\", \"bathrooms\", \"guests_included\", \"neighbourhood\", \"neighbourhood_group_cleansed\", \"property_type\", \"room_type\", \"amenities\", \"X\", \"Y\", \"Z\", \"date\"], \"data\": [[5.66, 6, 60.0, 4.0, 30, 2.0, 60, 88, 359, 600.0, 2.0, 4, \"Retiro\", \"Retiro\", \"Apartment\", \"Entire home/apt\", 18, 4846242.12107298, -312605.06587381434, 4134833.3663519137, 2], [2.66, 3, 60.0, 4.0, 20, 2.0, 60, 98, 459, 600.0, 2.0, 4, \"Retiro\", \"Retiro\", \"Apartment\", \"Entire home/apt\", 18, 4846242.12107298, -312605.06587381434, 4134833.3663519137, 2]]}}'"
   ]
  },
  {
   "cell_type": "markdown",
   "metadata": {},
   "source": [
    "Como se puede apreciar, no se trata de un método amigable para realizar las predicciones, y por tanto, crear una imagen de `Docker` y exportar a producción. Por lo tanto, se va a usar otra alternativa."
   ]
  },
  {
   "cell_type": "markdown",
   "metadata": {},
   "source": [
    "# Despliegue (producción)"
   ]
  },
  {
   "cell_type": "markdown",
   "metadata": {},
   "source": [
    "## Docker"
   ]
  },
  {
   "cell_type": "markdown",
   "metadata": {},
   "source": [
    "De esta forma, se ha creado una aplicación web con `Streamlit` dentro de la carpeta `app` que va a permitir desplegar el modelo de forma más amigable mediante una interfaz gráfica. Una vez se ha creado el código de la aplicación y testeada la misma en local, se crea una imagen de `Docker` con la interfaz mediante un `Dockerfile`:\n",
    "- En este archivo se copia el código de la aplicación web de `Streamlit`, el archivo `requirements.txt` con las librerías requeridas y el modelo guardado (en un archivo `.pkl` gracias a `MLflow`) al directorio de trabajo de la imagen de `Docker`.\n",
    "- Se actualizan los paquetes e instalan las librerías requeridas del `requirements.txt`.\n",
    "- Se expone el puerto `8501`, ya que posteriormente se va a usar para exponer la aplicación web.\n",
    "- Se ejecuta la aplicación web de `Streamlit` (`app.py`) especificando la `IP` y el `puerto` donde se servirá en el `ENTRYPOINT`.\n",
    "\n",
    "Tras crear este archivo y configurarlo correctamente, se crea la imagen con el siguiente comando:"
   ]
  },
  {
   "cell_type": "markdown",
   "metadata": {},
   "source": [
    "<p style=\"text-align: center;\"> docker build -t app-embedded-airbnb:v1.1 . </p>"
   ]
  },
  {
   "cell_type": "markdown",
   "metadata": {},
   "source": [
    "Mediante el argumento `-t` se especifica el nombre y el `tag` de la imagen en formato `nombre:tag`. Por lo que la imagen creada se llama `app-embedded-airbnb` y el `tag` es `v1.1`. El `.` del final indica que el archivo `Dockerfile` está en el directorio actual (`Airbnb_Madrid`)."
   ]
  },
  {
   "cell_type": "markdown",
   "metadata": {},
   "source": [
    "Una vez se crea la imagen de `Docker`, ya se puede consultar la aplicación web donde se ha servido el modelo dentro de un contenedor. Para ello se inicia un contenedor, como se ha comentado, a partir de la imagen creada con un comando como el siguiente:"
   ]
  },
  {
   "cell_type": "markdown",
   "metadata": {},
   "source": [
    "<p style=\"text-align: center;\"> docker container run -itd -p 8501:8501 --name app-streamlit 3ed </p>"
   ]
  },
  {
   "cell_type": "markdown",
   "metadata": {},
   "source": [
    "Mediante este comando se inicia un contenedor a partir de la imagen creada, enlazando el puerto `8501` de nuestro `localhost` con el puerto `8501` del contenedor (donde se encuentra la aplicación web dentro del contenedor). De esta forma, si se abre en un navegador la dirección `127.0.0.1:8501` (el `localhost`) se accederá a la aplicación web de `Streamlit`, ya que el puerto `8501` de nuestro `localhost` está conectado con el puerto `8501` del contenedor, que es donde se aloja la aplicación web del modelo. Por tanto, para obtener predicciones basta con seleccionar las distintas variables de entrada de la aplicación web."
   ]
  },
  {
   "cell_type": "markdown",
   "metadata": {},
   "source": [
    "Después de construir la imagen de Docker, ésta se sube a `Dockerhub` para tenerlo almacenado en un repositorio y poder descargar la imagen posteriormente en cualquier ordenador. Para ello, primero se crea un `tag` a la imagen de `Docker` creada para especificar cual es nuestro usuario `Dockerhub` y cual sería el nombre de la imagen y el `tag` en el repositorio. Por tanto, se ejecuta el siguiente comando:"
   ]
  },
  {
   "cell_type": "markdown",
   "metadata": {},
   "source": [
    "<p style=\"text-align: center;\"> docker image tag app-embedded-airbnb:v1.1 xxxx/app-embedded-airbnb:v1.1 </p>"
   ]
  },
  {
   "cell_type": "markdown",
   "metadata": {},
   "source": [
    "Donde `xxxx` es el nombre de la cuenta de `Dockerhub`."
   ]
  },
  {
   "cell_type": "markdown",
   "metadata": {},
   "source": [
    "Una vez la imagen ya ha sido `taggeada`, se sube al repositorio:"
   ]
  },
  {
   "cell_type": "markdown",
   "metadata": {},
   "source": [
    "<p style=\"text-align: center;\"> docker image push xxx/app-embedded-airbnb:v1.1 </p>"
   ]
  },
  {
   "cell_type": "markdown",
   "metadata": {},
   "source": [
    "## Kubernetes"
   ]
  },
  {
   "cell_type": "markdown",
   "metadata": {},
   "source": [
    "`Kubernetes` es un sistema de orquestación de contenedores usado para el despliegue de contenedores de `Docker`. Está diseñado para administrar eficientemente y coordinar `clusters` y cargas de trabajo a gran escala en un entorno de producción. Además, ayuda a gestionar servicios contenerizados mediante la automatización en el despliegue."
   ]
  },
  {
   "cell_type": "code",
   "execution_count": null,
   "metadata": {},
   "outputs": [],
   "source": []
  }
 ],
 "metadata": {
  "kernelspec": {
   "display_name": "Python 3 (ipykernel)",
   "language": "python",
   "name": "python3"
  },
  "language_info": {
   "codemirror_mode": {
    "name": "ipython",
    "version": 3
   },
   "file_extension": ".py",
   "mimetype": "text/x-python",
   "name": "python",
   "nbconvert_exporter": "python",
   "pygments_lexer": "ipython3",
   "version": "3.11.7"
  }
 },
 "nbformat": 4,
 "nbformat_minor": 4
}
