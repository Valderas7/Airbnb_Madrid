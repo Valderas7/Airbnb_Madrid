{
 "cells": [
  {
   "cell_type": "code",
   "execution_count": 21,
   "id": "d495a223-3b92-4213-8365-91137af04d99",
   "metadata": {},
   "outputs": [],
   "source": [
    "# Librerías\n",
    "#pip install --upgrade pandas\n",
    "#!pip install geopandas\n",
    "import geopandas as gpd\n",
    "import pandas as pd\n",
    "import numpy as np\n",
    "import seaborn as sns\n",
    "import matplotlib.pyplot as plt"
   ]
  },
  {
   "cell_type": "markdown",
   "id": "b4082ddf-605f-44cb-b4b2-341dfcbd9c12",
   "metadata": {},
   "source": [
    "## Situación del mercado de alquileres"
   ]
  },
  {
   "cell_type": "markdown",
   "id": "6da3c302-7392-40fb-8179-b9d57ad17ce0",
   "metadata": {},
   "source": [
    "### Datos detallados del calendario para las publicaciones"
   ]
  },
  {
   "cell_type": "markdown",
   "id": "f13f689f-a2fe-4b54-9315-91e11249a1f2",
   "metadata": {},
   "source": [
    "A continuación se lee y se muestra la cabecera del `dataframe`que muestra los datos detallados del calendario para las publicaciones, y se inspecciona su estructura:"
   ]
  },
  {
   "cell_type": "code",
   "execution_count": 72,
   "id": "45aa3921-96f7-461e-a5a0-6acdb39bc82f",
   "metadata": {},
   "outputs": [
    {
     "data": {
      "text/html": [
       "<div>\n",
       "<style scoped>\n",
       "    .dataframe tbody tr th:only-of-type {\n",
       "        vertical-align: middle;\n",
       "    }\n",
       "\n",
       "    .dataframe tbody tr th {\n",
       "        vertical-align: top;\n",
       "    }\n",
       "\n",
       "    .dataframe thead th {\n",
       "        text-align: right;\n",
       "    }\n",
       "</style>\n",
       "<table border=\"1\" class=\"dataframe\">\n",
       "  <thead>\n",
       "    <tr style=\"text-align: right;\">\n",
       "      <th></th>\n",
       "      <th>date</th>\n",
       "      <th>available</th>\n",
       "      <th>price</th>\n",
       "      <th>adjusted_price</th>\n",
       "      <th>minimum_nights</th>\n",
       "      <th>maximum_nights</th>\n",
       "    </tr>\n",
       "    <tr>\n",
       "      <th>listing_id</th>\n",
       "      <th></th>\n",
       "      <th></th>\n",
       "      <th></th>\n",
       "      <th></th>\n",
       "      <th></th>\n",
       "      <th></th>\n",
       "    </tr>\n",
       "  </thead>\n",
       "  <tbody>\n",
       "    <tr>\n",
       "      <th>6369</th>\n",
       "      <td>2020-01-11</td>\n",
       "      <td>f</td>\n",
       "      <td>$80.00</td>\n",
       "      <td>$80.00</td>\n",
       "      <td>1.0</td>\n",
       "      <td>365.0</td>\n",
       "    </tr>\n",
       "    <tr>\n",
       "      <th>96072</th>\n",
       "      <td>2020-01-11</td>\n",
       "      <td>f</td>\n",
       "      <td>$25.00</td>\n",
       "      <td>$25.00</td>\n",
       "      <td>3.0</td>\n",
       "      <td>365.0</td>\n",
       "    </tr>\n",
       "    <tr>\n",
       "      <th>96072</th>\n",
       "      <td>2020-01-12</td>\n",
       "      <td>f</td>\n",
       "      <td>$25.00</td>\n",
       "      <td>$25.00</td>\n",
       "      <td>3.0</td>\n",
       "      <td>365.0</td>\n",
       "    </tr>\n",
       "    <tr>\n",
       "      <th>96072</th>\n",
       "      <td>2020-01-13</td>\n",
       "      <td>f</td>\n",
       "      <td>$25.00</td>\n",
       "      <td>$25.00</td>\n",
       "      <td>3.0</td>\n",
       "      <td>365.0</td>\n",
       "    </tr>\n",
       "    <tr>\n",
       "      <th>96072</th>\n",
       "      <td>2020-01-14</td>\n",
       "      <td>f</td>\n",
       "      <td>$25.00</td>\n",
       "      <td>$25.00</td>\n",
       "      <td>3.0</td>\n",
       "      <td>365.0</td>\n",
       "    </tr>\n",
       "  </tbody>\n",
       "</table>\n",
       "</div>"
      ],
      "text/plain": [
       "                 date available   price adjusted_price  minimum_nights  \\\n",
       "listing_id                                                               \n",
       "6369       2020-01-11         f  $80.00         $80.00             1.0   \n",
       "96072      2020-01-11         f  $25.00         $25.00             3.0   \n",
       "96072      2020-01-12         f  $25.00         $25.00             3.0   \n",
       "96072      2020-01-13         f  $25.00         $25.00             3.0   \n",
       "96072      2020-01-14         f  $25.00         $25.00             3.0   \n",
       "\n",
       "            maximum_nights  \n",
       "listing_id                  \n",
       "6369                 365.0  \n",
       "96072                365.0  \n",
       "96072                365.0  \n",
       "96072                365.0  \n",
       "96072                365.0  "
      ]
     },
     "execution_count": 72,
     "metadata": {},
     "output_type": "execute_result"
    }
   ],
   "source": [
    "df_calendar = pd.read_csv('./dataset_nuevo/calendar.csv.gz', sep=',', parse_dates=['date'], index_col='listing_id')\n",
    "df_calendar.head()"
   ]
  },
  {
   "cell_type": "code",
   "execution_count": 73,
   "id": "4691fa69-54e1-432e-b33b-250aeeafc01a",
   "metadata": {},
   "outputs": [
    {
     "name": "stdout",
     "output_type": "stream",
     "text": [
      "<class 'pandas.core.frame.DataFrame'>\n",
      "Index: 7845708 entries, 6369 to 41281944\n",
      "Data columns (total 6 columns):\n",
      " #   Column          Dtype         \n",
      "---  ------          -----         \n",
      " 0   date            datetime64[ns]\n",
      " 1   available       object        \n",
      " 2   price           object        \n",
      " 3   adjusted_price  object        \n",
      " 4   minimum_nights  float64       \n",
      " 5   maximum_nights  float64       \n",
      "dtypes: datetime64[ns](1), float64(2), object(3)\n",
      "memory usage: 419.0+ MB\n"
     ]
    }
   ],
   "source": [
    "df_calendar.info()"
   ]
  },
  {
   "cell_type": "markdown",
   "id": "cab2a52e-18d6-4905-bf33-ef5acc52c7fa",
   "metadata": {},
   "source": [
    "Las columnas de `price` y `adjusted_price` tienen el símbolo del dólar. Se va a eliminar este símbolo (al igual que las comas) y a convertir las columnas en numéricas para trabajar con ellas con más facilidad."
   ]
  },
  {
   "cell_type": "code",
   "execution_count": 74,
   "id": "03a02055-fc99-40f2-8ea6-e27c8eb162ed",
   "metadata": {},
   "outputs": [
    {
     "name": "stdout",
     "output_type": "stream",
     "text": [
      "<class 'pandas.core.frame.DataFrame'>\n",
      "Index: 7845708 entries, 6369 to 41281944\n",
      "Data columns (total 6 columns):\n",
      " #   Column          Dtype         \n",
      "---  ------          -----         \n",
      " 0   date            datetime64[ns]\n",
      " 1   available       object        \n",
      " 2   price           float64       \n",
      " 3   adjusted_price  float64       \n",
      " 4   minimum_nights  float64       \n",
      " 5   maximum_nights  float64       \n",
      "dtypes: datetime64[ns](1), float64(4), object(1)\n",
      "memory usage: 419.0+ MB\n"
     ]
    }
   ],
   "source": [
    "df_calendar['price'] = df_calendar['price'].str.replace(\"$\", '').str.replace(',','').astype('float64')\n",
    "df_calendar['adjusted_price'] = df_calendar['adjusted_price'].str.replace(\"$\", '').str.replace(',','').astype('float64')\n",
    "df_calendar.info()"
   ]
  },
  {
   "cell_type": "markdown",
   "id": "3edc8bb5-5fed-4f6f-a779-1506bb3c77f1",
   "metadata": {},
   "source": [
    "Ahora los tipos de datos son correctos. Se inspecciona si el `dataframe` tiene valores nulos:"
   ]
  },
  {
   "cell_type": "code",
   "execution_count": 75,
   "id": "0f2dd1a5-4ec9-4980-8ff9-15d10bde7afa",
   "metadata": {},
   "outputs": [
    {
     "data": {
      "text/plain": [
       "date                0\n",
       "available           0\n",
       "price             171\n",
       "adjusted_price    171\n",
       "minimum_nights      4\n",
       "maximum_nights      4\n",
       "dtype: int64"
      ]
     },
     "execution_count": 75,
     "metadata": {},
     "output_type": "execute_result"
    }
   ],
   "source": [
    "df_calendar.isna().sum()"
   ]
  },
  {
   "cell_type": "markdown",
   "id": "4262896d-2d41-4512-b54d-4b684adb8c8c",
   "metadata": {},
   "source": [
    "Como el `dataframe` tiene mucha información y muchas filas, se opta por eliminar las filas con valores nulos, ya que no creo que tengan un impacto negativo en el análisis exploratorio:"
   ]
  },
  {
   "cell_type": "code",
   "execution_count": 76,
   "id": "e39664fa-8f27-4c6c-88c7-b3c0625138ab",
   "metadata": {},
   "outputs": [
    {
     "data": {
      "text/plain": [
       "date              0\n",
       "available         0\n",
       "price             0\n",
       "adjusted_price    0\n",
       "minimum_nights    0\n",
       "maximum_nights    0\n",
       "dtype: int64"
      ]
     },
     "execution_count": 76,
     "metadata": {},
     "output_type": "execute_result"
    }
   ],
   "source": [
    "df_calendar.dropna(inplace=True)"
   ]
  },
  {
   "cell_type": "markdown",
   "id": "71cd4366-5e0c-4c9a-9215-3d8946b81ee5",
   "metadata": {},
   "source": [
    "Se va a proceder a obtener una descripción de las columnas numéricas de `df_calendar`. Se muestran los resultados de los cuantiles [0.25, 0.5, 0.75, 0.95, 0.99, 0.995]"
   ]
  },
  {
   "cell_type": "code",
   "execution_count": 77,
   "id": "dee71a10-3a02-4e9e-adde-e92f20850717",
   "metadata": {},
   "outputs": [
    {
     "data": {
      "text/html": [
       "<div>\n",
       "<style scoped>\n",
       "    .dataframe tbody tr th:only-of-type {\n",
       "        vertical-align: middle;\n",
       "    }\n",
       "\n",
       "    .dataframe tbody tr th {\n",
       "        vertical-align: top;\n",
       "    }\n",
       "\n",
       "    .dataframe thead th {\n",
       "        text-align: right;\n",
       "    }\n",
       "</style>\n",
       "<table border=\"1\" class=\"dataframe\">\n",
       "  <thead>\n",
       "    <tr style=\"text-align: right;\">\n",
       "      <th></th>\n",
       "      <th>price</th>\n",
       "      <th>adjusted_price</th>\n",
       "      <th>minimum_nights</th>\n",
       "      <th>maximum_nights</th>\n",
       "    </tr>\n",
       "  </thead>\n",
       "  <tbody>\n",
       "    <tr>\n",
       "      <th>count</th>\n",
       "      <td>7.845533e+06</td>\n",
       "      <td>7.845533e+06</td>\n",
       "      <td>7.845533e+06</td>\n",
       "      <td>7.845533e+06</td>\n",
       "    </tr>\n",
       "    <tr>\n",
       "      <th>mean</th>\n",
       "      <td>1.423431e+02</td>\n",
       "      <td>1.420381e+02</td>\n",
       "      <td>4.693651e+00</td>\n",
       "      <td>6.443547e+03</td>\n",
       "    </tr>\n",
       "    <tr>\n",
       "      <th>std</th>\n",
       "      <td>4.374274e+02</td>\n",
       "      <td>4.361963e+02</td>\n",
       "      <td>2.288716e+01</td>\n",
       "      <td>7.616210e+05</td>\n",
       "    </tr>\n",
       "    <tr>\n",
       "      <th>min</th>\n",
       "      <td>1.000000e+00</td>\n",
       "      <td>1.000000e+00</td>\n",
       "      <td>1.000000e+00</td>\n",
       "      <td>1.000000e+00</td>\n",
       "    </tr>\n",
       "    <tr>\n",
       "      <th>25%</th>\n",
       "      <td>4.000000e+01</td>\n",
       "      <td>4.000000e+01</td>\n",
       "      <td>1.000000e+00</td>\n",
       "      <td>4.000000e+01</td>\n",
       "    </tr>\n",
       "    <tr>\n",
       "      <th>50%</th>\n",
       "      <td>7.000000e+01</td>\n",
       "      <td>7.000000e+01</td>\n",
       "      <td>2.000000e+00</td>\n",
       "      <td>1.125000e+03</td>\n",
       "    </tr>\n",
       "    <tr>\n",
       "      <th>75%</th>\n",
       "      <td>1.200000e+02</td>\n",
       "      <td>1.200000e+02</td>\n",
       "      <td>3.000000e+00</td>\n",
       "      <td>1.125000e+03</td>\n",
       "    </tr>\n",
       "    <tr>\n",
       "      <th>95%</th>\n",
       "      <td>4.140000e+02</td>\n",
       "      <td>4.140000e+02</td>\n",
       "      <td>1.200000e+01</td>\n",
       "      <td>1.125000e+03</td>\n",
       "    </tr>\n",
       "    <tr>\n",
       "      <th>99%</th>\n",
       "      <td>1.169000e+03</td>\n",
       "      <td>1.169000e+03</td>\n",
       "      <td>5.000000e+01</td>\n",
       "      <td>1.125000e+03</td>\n",
       "    </tr>\n",
       "    <tr>\n",
       "      <th>99.5%</th>\n",
       "      <td>1.500000e+03</td>\n",
       "      <td>1.500000e+03</td>\n",
       "      <td>9.000000e+01</td>\n",
       "      <td>1.125000e+03</td>\n",
       "    </tr>\n",
       "    <tr>\n",
       "      <th>max</th>\n",
       "      <td>1.023500e+04</td>\n",
       "      <td>1.023500e+04</td>\n",
       "      <td>1.125000e+03</td>\n",
       "      <td>1.111111e+08</td>\n",
       "    </tr>\n",
       "  </tbody>\n",
       "</table>\n",
       "</div>"
      ],
      "text/plain": [
       "              price  adjusted_price  minimum_nights  maximum_nights\n",
       "count  7.845533e+06    7.845533e+06    7.845533e+06    7.845533e+06\n",
       "mean   1.423431e+02    1.420381e+02    4.693651e+00    6.443547e+03\n",
       "std    4.374274e+02    4.361963e+02    2.288716e+01    7.616210e+05\n",
       "min    1.000000e+00    1.000000e+00    1.000000e+00    1.000000e+00\n",
       "25%    4.000000e+01    4.000000e+01    1.000000e+00    4.000000e+01\n",
       "50%    7.000000e+01    7.000000e+01    2.000000e+00    1.125000e+03\n",
       "75%    1.200000e+02    1.200000e+02    3.000000e+00    1.125000e+03\n",
       "95%    4.140000e+02    4.140000e+02    1.200000e+01    1.125000e+03\n",
       "99%    1.169000e+03    1.169000e+03    5.000000e+01    1.125000e+03\n",
       "99.5%  1.500000e+03    1.500000e+03    9.000000e+01    1.125000e+03\n",
       "max    1.023500e+04    1.023500e+04    1.125000e+03    1.111111e+08"
      ]
     },
     "execution_count": 77,
     "metadata": {},
     "output_type": "execute_result"
    }
   ],
   "source": [
    "# Solo columnas numéricas\n",
    "df_calendar.describe(percentiles = [0.25, 0.5, 0.75, 0.95, 0.99, 0.995], include=np.number)"
   ]
  },
  {
   "cell_type": "markdown",
   "id": "2451993f-1caf-4fc6-9f8f-f7d303a1ee14",
   "metadata": {},
   "source": [
    "Podemos realizar una distribución de densidad de los precios para ver la distribución de los mismos:"
   ]
  },
  {
   "cell_type": "code",
   "execution_count": 86,
   "id": "911d0ecc-f0b6-42ed-9f84-72c66748b48a",
   "metadata": {},
   "outputs": [
    {
     "name": "stderr",
     "output_type": "stream",
     "text": [
      "C:\\Users\\valde\\anaconda3\\Lib\\site-packages\\seaborn\\_oldcore.py:1119: FutureWarning: use_inf_as_na option is deprecated and will be removed in a future version. Convert inf values to NaN before operating instead.\n",
      "  with pd.option_context('mode.use_inf_as_na', True):\n"
     ]
    },
    {
     "data": {
      "text/plain": [
       "Text(0, 0.5, 'Densidad')"
      ]
     },
     "execution_count": 86,
     "metadata": {},
     "output_type": "execute_result"
    },
    {
     "data": {
      "image/png": "[encoded data removed]",
      "text/plain": [
       "<Figure size 640x480 with 1 Axes>"
      ]
     },
     "metadata": {},
     "output_type": "display_data"
    }
   ],
   "source": [
    "# Se establece la distribución de densidad de la columna 'price' especificando con 'bw' el ancho de banda de suavizado que se usa\n",
    "ax = sns.kdeplot(data=df_calendar, x=\"price\", bw_method=1)\n",
    "\n",
    "# Se establece el título y los 'labels' de la gráfica\n",
    "ax.set_title('Distribución de densidad de precios', pad=5, fontsize=12)\n",
    "ax.set_xlabel('Precios (en dólares)', labelpad=10, fontsize=10)\n",
    "ax.set_ylabel('Densidad', labelpad=10, fontsize=10)"
   ]
  },
  {
   "cell_type": "markdown",
   "id": "c01c2a86-983a-4543-930e-6dca0b8ed131",
   "metadata": {},
   "source": [
    "Efectivamente, parece que la media y la mediana de los precios está en torno a los 70 dólares, y que hay pocas propiedades en alquiler por encima de los 1000 dólares. Ahora pasamos a ver las correlaciones entre las distintas columnas numéricas:"
   ]
  },
  {
   "cell_type": "code",
   "execution_count": 88,
   "id": "bab2639c-5c11-4680-8a7e-4e5cc60b1ddc",
   "metadata": {},
   "outputs": [
    {
     "data": {
      "text/html": [
       "<style type=\"text/css\">\n",
       "#T_6fd78_row0_col0, #T_6fd78_row0_col1, #T_6fd78_row1_col0, #T_6fd78_row1_col1, #T_6fd78_row2_col2, #T_6fd78_row3_col3 {\n",
       "  background-color: #023858;\n",
       "  color: #f1f1f1;\n",
       "}\n",
       "#T_6fd78_row0_col2, #T_6fd78_row0_col3, #T_6fd78_row1_col2, #T_6fd78_row1_col3, #T_6fd78_row2_col0, #T_6fd78_row2_col1, #T_6fd78_row2_col3 {\n",
       "  background-color: #fff7fb;\n",
       "  color: #000000;\n",
       "}\n",
       "#T_6fd78_row3_col0, #T_6fd78_row3_col1, #T_6fd78_row3_col2 {\n",
       "  background-color: #fdf5fa;\n",
       "  color: #000000;\n",
       "}\n",
       "</style>\n",
       "<table id=\"T_6fd78\">\n",
       "  <thead>\n",
       "    <tr>\n",
       "      <th class=\"blank level0\" >&nbsp;</th>\n",
       "      <th id=\"T_6fd78_level0_col0\" class=\"col_heading level0 col0\" >price</th>\n",
       "      <th id=\"T_6fd78_level0_col1\" class=\"col_heading level0 col1\" >adjusted_price</th>\n",
       "      <th id=\"T_6fd78_level0_col2\" class=\"col_heading level0 col2\" >minimum_nights</th>\n",
       "      <th id=\"T_6fd78_level0_col3\" class=\"col_heading level0 col3\" >maximum_nights</th>\n",
       "    </tr>\n",
       "  </thead>\n",
       "  <tbody>\n",
       "    <tr>\n",
       "      <th id=\"T_6fd78_level0_row0\" class=\"row_heading level0 row0\" >price</th>\n",
       "      <td id=\"T_6fd78_row0_col0\" class=\"data row0 col0\" >1.000000</td>\n",
       "      <td id=\"T_6fd78_row0_col1\" class=\"data row0 col1\" >0.999686</td>\n",
       "      <td id=\"T_6fd78_row0_col2\" class=\"data row0 col2\" >-0.013988</td>\n",
       "      <td id=\"T_6fd78_row0_col3\" class=\"data row0 col3\" >0.000004</td>\n",
       "    </tr>\n",
       "    <tr>\n",
       "      <th id=\"T_6fd78_level0_row1\" class=\"row_heading level0 row1\" >adjusted_price</th>\n",
       "      <td id=\"T_6fd78_row1_col0\" class=\"data row1 col0\" >0.999686</td>\n",
       "      <td id=\"T_6fd78_row1_col1\" class=\"data row1 col1\" >1.000000</td>\n",
       "      <td id=\"T_6fd78_row1_col2\" class=\"data row1 col2\" >-0.013999</td>\n",
       "      <td id=\"T_6fd78_row1_col3\" class=\"data row1 col3\" >0.000009</td>\n",
       "    </tr>\n",
       "    <tr>\n",
       "      <th id=\"T_6fd78_level0_row2\" class=\"row_heading level0 row2\" >minimum_nights</th>\n",
       "      <td id=\"T_6fd78_row2_col0\" class=\"data row2 col0\" >-0.013988</td>\n",
       "      <td id=\"T_6fd78_row2_col1\" class=\"data row2 col1\" >-0.013999</td>\n",
       "      <td id=\"T_6fd78_row2_col2\" class=\"data row2 col2\" >1.000000</td>\n",
       "      <td id=\"T_6fd78_row2_col3\" class=\"data row2 col3\" >-0.001103</td>\n",
       "    </tr>\n",
       "    <tr>\n",
       "      <th id=\"T_6fd78_level0_row3\" class=\"row_heading level0 row3\" >maximum_nights</th>\n",
       "      <td id=\"T_6fd78_row3_col0\" class=\"data row3 col0\" >0.000004</td>\n",
       "      <td id=\"T_6fd78_row3_col1\" class=\"data row3 col1\" >0.000009</td>\n",
       "      <td id=\"T_6fd78_row3_col2\" class=\"data row3 col2\" >-0.001103</td>\n",
       "      <td id=\"T_6fd78_row3_col3\" class=\"data row3 col3\" >1.000000</td>\n",
       "    </tr>\n",
       "  </tbody>\n",
       "</table>\n"
      ],
      "text/plain": [
       "<pandas.io.formats.style.Styler at 0x21ea4d1ca50>"
      ]
     },
     "execution_count": 88,
     "metadata": {},
     "output_type": "execute_result"
    }
   ],
   "source": [
    "calendar_target = ['price', 'adjusted_price', 'minimum_nights', 'maximum_nights']\n",
    "\n",
    "# Se muestra la correlación entre estas cuatro columnas y se colorea cada una de ellas según su importancia \n",
    "# con 'DataFrame.style.background_gradient()'\n",
    "df_calendar[calendar_target].corr(method='pearson').style.background_gradient()"
   ]
  },
  {
   "cell_type": "markdown",
   "id": "1da5edb0-12b3-404c-9a19-758c07af2155",
   "metadata": {},
   "source": [
    "Se aprecia una correlación positiva muy fuerte entre el precio y el precio ajustado, como se podía preveer al mostrar el `dataframe`. También vemos como no hay correlación ninguna entre los precios y los noches máximas o mínimas de alquiler."
   ]
  },
  {
   "cell_type": "markdown",
   "id": "6737c86c-09d2-4b6b-8d9b-ac4b1cbe54a7",
   "metadata": {},
   "source": [
    "Por último, para este dataframe creo que sería útil ver como evolucionan los precios a medida que pasan las fechas."
   ]
  },
  {
   "cell_type": "code",
   "execution_count": 94,
   "id": "5c553180-dfde-4e87-aca0-52b451b1a77d",
   "metadata": {},
   "outputs": [
    {
     "data": {
      "text/html": [
       "<div>\n",
       "<style scoped>\n",
       "    .dataframe tbody tr th:only-of-type {\n",
       "        vertical-align: middle;\n",
       "    }\n",
       "\n",
       "    .dataframe tbody tr th {\n",
       "        vertical-align: top;\n",
       "    }\n",
       "\n",
       "    .dataframe thead th {\n",
       "        text-align: right;\n",
       "    }\n",
       "</style>\n",
       "<table border=\"1\" class=\"dataframe\">\n",
       "  <thead>\n",
       "    <tr style=\"text-align: right;\">\n",
       "      <th></th>\n",
       "      <th>price</th>\n",
       "    </tr>\n",
       "    <tr>\n",
       "      <th>date</th>\n",
       "      <th></th>\n",
       "    </tr>\n",
       "  </thead>\n",
       "  <tbody>\n",
       "    <tr>\n",
       "      <th>2020-01-11</th>\n",
       "      <td>80.0</td>\n",
       "    </tr>\n",
       "    <tr>\n",
       "      <th>2020-01-11</th>\n",
       "      <td>25.0</td>\n",
       "    </tr>\n",
       "    <tr>\n",
       "      <th>2020-01-12</th>\n",
       "      <td>25.0</td>\n",
       "    </tr>\n",
       "    <tr>\n",
       "      <th>2020-01-13</th>\n",
       "      <td>25.0</td>\n",
       "    </tr>\n",
       "    <tr>\n",
       "      <th>2020-01-14</th>\n",
       "      <td>25.0</td>\n",
       "    </tr>\n",
       "  </tbody>\n",
       "</table>\n",
       "</div>"
      ],
      "text/plain": [
       "            price\n",
       "date             \n",
       "2020-01-11   80.0\n",
       "2020-01-11   25.0\n",
       "2020-01-12   25.0\n",
       "2020-01-13   25.0\n",
       "2020-01-14   25.0"
      ]
     },
     "execution_count": 94,
     "metadata": {},
     "output_type": "execute_result"
    }
   ],
   "source": [
    "# Se lee de nuevo el dataframe especificando como índice la columna 'date' y quedándonos solamente con la columna 'price',\n",
    "# eliminando los símbolos ',' y '$' como se ha realizado arriba\n",
    "df_calendar_ts = pd.read_csv('./dataset_nuevo/calendar.csv.gz', sep=',', parse_dates=['date'], index_col='date')[['price']]\n",
    "df_calendar_ts['price'] = df_calendar_ts['price'].str.replace(\"$\", '').str.replace(',','').astype('float64')\n",
    "df_calendar_ts.head()"
   ]
  },
  {
   "cell_type": "markdown",
   "id": "adbbfd14-2d43-4df0-ab4d-c205b8bfa793",
   "metadata": {},
   "source": [
    "Si se agrupa el `dataframe` por fechas (días) y se realiza la media de los precios en cada una de ellas, se puede ver como evolucionan los precios cada día. El resultado sería una serie temporal con muchas variaciones. Para solucionar esto, se hace `downsampling` para tener una menor frecuencia (cada dos semanas en este caso):"
   ]
  },
  {
   "cell_type": "code",
   "execution_count": 117,
   "id": "3ee2eeec-3ef2-44ea-90c4-aa262f34e2e6",
   "metadata": {},
   "outputs": [
    {
     "data": {
      "text/plain": [
       "<matplotlib.legend.Legend at 0x22191c482d0>"
      ]
     },
     "execution_count": 117,
     "metadata": {},
     "output_type": "execute_result"
    },
    {
     "data": {
      "image/png": "[encoded data removed]",
      "text/plain": [
       "<Figure size 640x480 with 1 Axes>"
      ]
     },
     "metadata": {},
     "output_type": "display_data"
    }
   ],
   "source": [
    "ax = df_calendar_ts.groupby('date').mean().resample(rule='2W').mean().plot()\n",
    "\n",
    "# Se establece el título y los 'labels' de la gráfica\n",
    "ax.set_title('Evolución de los precios medios de alquiler', pad=5, fontsize=12)\n",
    "ax.set_xlabel('Fecha', labelpad=10, fontsize=10)\n",
    "ax.set_ylabel('Precios (en dólares)', labelpad=10, fontsize=10)\n",
    "plt.legend([\"Precio\"])"
   ]
  },
  {
   "cell_type": "markdown",
   "id": "8c4432eb-9b7c-4f2b-a8ae-cce9df3c4ce0",
   "metadata": {},
   "source": [
    "Como se puede apreciar, los precios han tenido a lo largo de 2020 una tendencia ascendente, con una fuerte subida en diciembre, en épocas navideñas. A partir de aquí y con el comienzo del nuevo año y de las épocas festivas, los precios cayeron a un mínimo global en torno a finales de enero de 2021. Hay que tener en cuenta que 2020 fue un año especial por ser el año de la pandemia y de la cuarentena, por lo que hay que tener mucho cuidado a la hora de extraer conclusiones a partir de este gráfico. <br>\n",
    "Eso sí, si que parece claro que en épocas navideñas los precios se disparan y que una vez pasan estas fechas, el bajón de precios es considerable."
   ]
  },
  {
   "cell_type": "markdown",
   "id": "f4f0546a-dddb-441d-9d45-599b20c6c690",
   "metadata": {},
   "source": [
    "### Resumen de información y métricas para las publicaciones"
   ]
  },
  {
   "cell_type": "markdown",
   "id": "63d8c8d2-5c31-4e43-b2b8-c189f3d61841",
   "metadata": {},
   "source": [
    "A continuación se lee y se muestra la cabecera del `dataframe` que muestra el resumen de información y métricas para las publicaciones y se inspecciona su estructura:"
   ]
  },
  {
   "cell_type": "code",
   "execution_count": 234,
   "id": "658dbcd2-74bb-4386-a7a5-49bb82744ede",
   "metadata": {},
   "outputs": [
    {
     "data": {
      "text/html": [
       "<div>\n",
       "<style scoped>\n",
       "    .dataframe tbody tr th:only-of-type {\n",
       "        vertical-align: middle;\n",
       "    }\n",
       "\n",
       "    .dataframe tbody tr th {\n",
       "        vertical-align: top;\n",
       "    }\n",
       "\n",
       "    .dataframe thead th {\n",
       "        text-align: right;\n",
       "    }\n",
       "</style>\n",
       "<table border=\"1\" class=\"dataframe\">\n",
       "  <thead>\n",
       "    <tr style=\"text-align: right;\">\n",
       "      <th></th>\n",
       "      <th>name</th>\n",
       "      <th>host_id</th>\n",
       "      <th>host_name</th>\n",
       "      <th>neighbourhood_group</th>\n",
       "      <th>neighbourhood</th>\n",
       "      <th>latitude</th>\n",
       "      <th>longitude</th>\n",
       "      <th>room_type</th>\n",
       "      <th>price</th>\n",
       "      <th>minimum_nights</th>\n",
       "      <th>number_of_reviews</th>\n",
       "      <th>last_review</th>\n",
       "      <th>reviews_per_month</th>\n",
       "      <th>calculated_host_listings_count</th>\n",
       "      <th>availability_365</th>\n",
       "    </tr>\n",
       "    <tr>\n",
       "      <th>id</th>\n",
       "      <th></th>\n",
       "      <th></th>\n",
       "      <th></th>\n",
       "      <th></th>\n",
       "      <th></th>\n",
       "      <th></th>\n",
       "      <th></th>\n",
       "      <th></th>\n",
       "      <th></th>\n",
       "      <th></th>\n",
       "      <th></th>\n",
       "      <th></th>\n",
       "      <th></th>\n",
       "      <th></th>\n",
       "      <th></th>\n",
       "    </tr>\n",
       "  </thead>\n",
       "  <tbody>\n",
       "    <tr>\n",
       "      <th>6369</th>\n",
       "      <td>Rooftop terrace room ,  ensuite bathroom</td>\n",
       "      <td>13660</td>\n",
       "      <td>Simon</td>\n",
       "      <td>Chamartín</td>\n",
       "      <td>Hispanoamérica</td>\n",
       "      <td>40.45628</td>\n",
       "      <td>-3.67763</td>\n",
       "      <td>Private room</td>\n",
       "      <td>70</td>\n",
       "      <td>1</td>\n",
       "      <td>73</td>\n",
       "      <td>2019-12-13</td>\n",
       "      <td>0.61</td>\n",
       "      <td>1</td>\n",
       "      <td>82</td>\n",
       "    </tr>\n",
       "    <tr>\n",
       "      <th>21853</th>\n",
       "      <td>Bright and airy room</td>\n",
       "      <td>83531</td>\n",
       "      <td>Abdel</td>\n",
       "      <td>Latina</td>\n",
       "      <td>Cármenes</td>\n",
       "      <td>40.40341</td>\n",
       "      <td>-3.74084</td>\n",
       "      <td>Private room</td>\n",
       "      <td>17</td>\n",
       "      <td>4</td>\n",
       "      <td>33</td>\n",
       "      <td>2018-07-15</td>\n",
       "      <td>0.52</td>\n",
       "      <td>2</td>\n",
       "      <td>162</td>\n",
       "    </tr>\n",
       "    <tr>\n",
       "      <th>23001</th>\n",
       "      <td>Apartmento Arganzuela- Madrid Rio</td>\n",
       "      <td>82175</td>\n",
       "      <td>Jesus</td>\n",
       "      <td>Arganzuela</td>\n",
       "      <td>Legazpi</td>\n",
       "      <td>40.38695</td>\n",
       "      <td>-3.69304</td>\n",
       "      <td>Entire home/apt</td>\n",
       "      <td>50</td>\n",
       "      <td>15</td>\n",
       "      <td>0</td>\n",
       "      <td>NaT</td>\n",
       "      <td>NaN</td>\n",
       "      <td>6</td>\n",
       "      <td>213</td>\n",
       "    </tr>\n",
       "    <tr>\n",
       "      <th>24805</th>\n",
       "      <td>Gran Via Studio Madrid</td>\n",
       "      <td>101471</td>\n",
       "      <td>Iraido</td>\n",
       "      <td>Centro</td>\n",
       "      <td>Universidad</td>\n",
       "      <td>40.42202</td>\n",
       "      <td>-3.70395</td>\n",
       "      <td>Entire home/apt</td>\n",
       "      <td>80</td>\n",
       "      <td>5</td>\n",
       "      <td>9</td>\n",
       "      <td>2020-01-03</td>\n",
       "      <td>0.14</td>\n",
       "      <td>1</td>\n",
       "      <td>362</td>\n",
       "    </tr>\n",
       "    <tr>\n",
       "      <th>24836</th>\n",
       "      <td>Select the Madrid more \"cool\".</td>\n",
       "      <td>101653</td>\n",
       "      <td>Tenty</td>\n",
       "      <td>Centro</td>\n",
       "      <td>Justicia</td>\n",
       "      <td>40.41995</td>\n",
       "      <td>-3.69764</td>\n",
       "      <td>Entire home/apt</td>\n",
       "      <td>115</td>\n",
       "      <td>3</td>\n",
       "      <td>67</td>\n",
       "      <td>2019-12-08</td>\n",
       "      <td>0.64</td>\n",
       "      <td>1</td>\n",
       "      <td>342</td>\n",
       "    </tr>\n",
       "  </tbody>\n",
       "</table>\n",
       "</div>"
      ],
      "text/plain": [
       "                                           name  host_id host_name  \\\n",
       "id                                                                   \n",
       "6369   Rooftop terrace room ,  ensuite bathroom    13660     Simon   \n",
       "21853                      Bright and airy room    83531     Abdel   \n",
       "23001         Apartmento Arganzuela- Madrid Rio    82175     Jesus   \n",
       "24805                    Gran Via Studio Madrid   101471    Iraido   \n",
       "24836            Select the Madrid more \"cool\".   101653     Tenty   \n",
       "\n",
       "      neighbourhood_group   neighbourhood  latitude  longitude  \\\n",
       "id                                                               \n",
       "6369            Chamartín  Hispanoamérica  40.45628   -3.67763   \n",
       "21853              Latina        Cármenes  40.40341   -3.74084   \n",
       "23001          Arganzuela         Legazpi  40.38695   -3.69304   \n",
       "24805              Centro     Universidad  40.42202   -3.70395   \n",
       "24836              Centro        Justicia  40.41995   -3.69764   \n",
       "\n",
       "             room_type  price  minimum_nights  number_of_reviews last_review  \\\n",
       "id                                                                             \n",
       "6369      Private room     70               1                 73  2019-12-13   \n",
       "21853     Private room     17               4                 33  2018-07-15   \n",
       "23001  Entire home/apt     50              15                  0         NaT   \n",
       "24805  Entire home/apt     80               5                  9  2020-01-03   \n",
       "24836  Entire home/apt    115               3                 67  2019-12-08   \n",
       "\n",
       "       reviews_per_month  calculated_host_listings_count  availability_365  \n",
       "id                                                                          \n",
       "6369                0.61                               1                82  \n",
       "21853               0.52                               2               162  \n",
       "23001                NaN                               6               213  \n",
       "24805               0.14                               1               362  \n",
       "24836               0.64                               1               342  "
      ]
     },
     "execution_count": 234,
     "metadata": {},
     "output_type": "execute_result"
    }
   ],
   "source": [
    "df_listing_summary = pd.read_csv('./dataset_nuevo/listings.csv', sep=',', index_col='id', parse_dates=['last_review'])\n",
    "df_listing_summary.head()"
   ]
  },
  {
   "cell_type": "code",
   "execution_count": 235,
   "id": "cc7643b3-3109-4965-89b9-ac3a4ce19eaa",
   "metadata": {},
   "outputs": [
    {
     "name": "stdout",
     "output_type": "stream",
     "text": [
      "<class 'pandas.core.frame.DataFrame'>\n",
      "Index: 21495 entries, 6369 to 41452557\n",
      "Data columns (total 15 columns):\n",
      " #   Column                          Non-Null Count  Dtype         \n",
      "---  ------                          --------------  -----         \n",
      " 0   name                            21492 non-null  object        \n",
      " 1   host_id                         21495 non-null  int64         \n",
      " 2   host_name                       21470 non-null  object        \n",
      " 3   neighbourhood_group             21495 non-null  object        \n",
      " 4   neighbourhood                   21495 non-null  object        \n",
      " 5   latitude                        21495 non-null  float64       \n",
      " 6   longitude                       21495 non-null  float64       \n",
      " 7   room_type                       21495 non-null  object        \n",
      " 8   price                           21495 non-null  int64         \n",
      " 9   minimum_nights                  21495 non-null  int64         \n",
      " 10  number_of_reviews               21495 non-null  int64         \n",
      " 11  last_review                     17204 non-null  datetime64[ns]\n",
      " 12  reviews_per_month               17204 non-null  float64       \n",
      " 13  calculated_host_listings_count  21495 non-null  int64         \n",
      " 14  availability_365                21495 non-null  int64         \n",
      "dtypes: datetime64[ns](1), float64(3), int64(6), object(5)\n",
      "memory usage: 2.6+ MB\n"
     ]
    }
   ],
   "source": [
    "df_listing_summary.info()"
   ]
  },
  {
   "cell_type": "markdown",
   "id": "d324e870-77da-4941-84d4-8e630f9df657",
   "metadata": {},
   "source": [
    "Todas las columnas tienen correctamente su tipo establecido. Se pasa a mostrar la correlación entre todas las variables numéricas:"
   ]
  },
  {
   "cell_type": "code",
   "execution_count": 236,
   "id": "96be3545-4024-47bc-8fbc-98a006a5ce1b",
   "metadata": {},
   "outputs": [
    {
     "data": {
      "text/html": [
       "<style type=\"text/css\">\n",
       "#T_916b2_row0_col0, #T_916b2_row1_col1, #T_916b2_row2_col2, #T_916b2_row3_col3, #T_916b2_row4_col4, #T_916b2_row5_col5, #T_916b2_row6_col6, #T_916b2_row7_col7, #T_916b2_row8_col8 {\n",
       "  background-color: #023858;\n",
       "  color: #f1f1f1;\n",
       "}\n",
       "#T_916b2_row0_col1 {\n",
       "  background-color: #bdc8e1;\n",
       "  color: #000000;\n",
       "}\n",
       "#T_916b2_row0_col2 {\n",
       "  background-color: #e2dfee;\n",
       "  color: #000000;\n",
       "}\n",
       "#T_916b2_row0_col3, #T_916b2_row0_col6, #T_916b2_row3_col1 {\n",
       "  background-color: #f5eef6;\n",
       "  color: #000000;\n",
       "}\n",
       "#T_916b2_row0_col4, #T_916b2_row4_col3 {\n",
       "  background-color: #fbf4f9;\n",
       "  color: #000000;\n",
       "}\n",
       "#T_916b2_row0_col5 {\n",
       "  background-color: #f2ecf5;\n",
       "  color: #000000;\n",
       "}\n",
       "#T_916b2_row0_col7 {\n",
       "  background-color: #f1ebf4;\n",
       "  color: #000000;\n",
       "}\n",
       "#T_916b2_row0_col8, #T_916b2_row1_col8, #T_916b2_row2_col4, #T_916b2_row2_col5, #T_916b2_row5_col0, #T_916b2_row5_col1, #T_916b2_row5_col2, #T_916b2_row6_col3, #T_916b2_row6_col7, #T_916b2_row7_col6 {\n",
       "  background-color: #fff7fb;\n",
       "  color: #000000;\n",
       "}\n",
       "#T_916b2_row1_col0 {\n",
       "  background-color: #c2cbe2;\n",
       "  color: #000000;\n",
       "}\n",
       "#T_916b2_row1_col2 {\n",
       "  background-color: #dfddec;\n",
       "  color: #000000;\n",
       "}\n",
       "#T_916b2_row1_col3, #T_916b2_row1_col7, #T_916b2_row4_col8, #T_916b2_row7_col3 {\n",
       "  background-color: #f8f1f8;\n",
       "  color: #000000;\n",
       "}\n",
       "#T_916b2_row1_col4, #T_916b2_row5_col8, #T_916b2_row6_col8 {\n",
       "  background-color: #fdf5fa;\n",
       "  color: #000000;\n",
       "}\n",
       "#T_916b2_row1_col5, #T_916b2_row2_col8, #T_916b2_row3_col0, #T_916b2_row8_col0 {\n",
       "  background-color: #f6eff7;\n",
       "  color: #000000;\n",
       "}\n",
       "#T_916b2_row1_col6 {\n",
       "  background-color: #eee8f3;\n",
       "  color: #000000;\n",
       "}\n",
       "#T_916b2_row2_col0, #T_916b2_row8_col3 {\n",
       "  background-color: #f1ebf5;\n",
       "  color: #000000;\n",
       "}\n",
       "#T_916b2_row2_col1 {\n",
       "  background-color: #ebe6f2;\n",
       "  color: #000000;\n",
       "}\n",
       "#T_916b2_row2_col3, #T_916b2_row2_col6, #T_916b2_row7_col0 {\n",
       "  background-color: #f7f0f7;\n",
       "  color: #000000;\n",
       "}\n",
       "#T_916b2_row2_col7, #T_916b2_row7_col5 {\n",
       "  background-color: #e7e3f0;\n",
       "  color: #000000;\n",
       "}\n",
       "#T_916b2_row3_col2 {\n",
       "  background-color: #ece7f2;\n",
       "  color: #000000;\n",
       "}\n",
       "#T_916b2_row3_col4, #T_916b2_row3_col8, #T_916b2_row6_col0 {\n",
       "  background-color: #fbf3f9;\n",
       "  color: #000000;\n",
       "}\n",
       "#T_916b2_row3_col5, #T_916b2_row5_col7, #T_916b2_row6_col1, #T_916b2_row6_col2 {\n",
       "  background-color: #f0eaf4;\n",
       "  color: #000000;\n",
       "}\n",
       "#T_916b2_row3_col6, #T_916b2_row4_col1, #T_916b2_row7_col1 {\n",
       "  background-color: #faf3f9;\n",
       "  color: #000000;\n",
       "}\n",
       "#T_916b2_row3_col7, #T_916b2_row4_col2 {\n",
       "  background-color: #f4edf6;\n",
       "  color: #000000;\n",
       "}\n",
       "#T_916b2_row4_col0, #T_916b2_row7_col4 {\n",
       "  background-color: #fef6fa;\n",
       "  color: #000000;\n",
       "}\n",
       "#T_916b2_row4_col5 {\n",
       "  background-color: #a1bbda;\n",
       "  color: #000000;\n",
       "}\n",
       "#T_916b2_row4_col6 {\n",
       "  background-color: #1b7eb7;\n",
       "  color: #f1f1f1;\n",
       "}\n",
       "#T_916b2_row4_col7 {\n",
       "  background-color: #faf2f8;\n",
       "  color: #000000;\n",
       "}\n",
       "#T_916b2_row5_col3 {\n",
       "  background-color: #fcf4fa;\n",
       "  color: #000000;\n",
       "}\n",
       "#T_916b2_row5_col4 {\n",
       "  background-color: #b3c3de;\n",
       "  color: #000000;\n",
       "}\n",
       "#T_916b2_row5_col6 {\n",
       "  background-color: #8bb2d4;\n",
       "  color: #000000;\n",
       "}\n",
       "#T_916b2_row6_col4 {\n",
       "  background-color: #2081b9;\n",
       "  color: #f1f1f1;\n",
       "}\n",
       "#T_916b2_row6_col5 {\n",
       "  background-color: #80aed2;\n",
       "  color: #f1f1f1;\n",
       "}\n",
       "#T_916b2_row7_col2 {\n",
       "  background-color: #dedcec;\n",
       "  color: #000000;\n",
       "}\n",
       "#T_916b2_row7_col8 {\n",
       "  background-color: #e1dfed;\n",
       "  color: #000000;\n",
       "}\n",
       "#T_916b2_row8_col1 {\n",
       "  background-color: #f3edf5;\n",
       "  color: #000000;\n",
       "}\n",
       "#T_916b2_row8_col2 {\n",
       "  background-color: #dddbec;\n",
       "  color: #000000;\n",
       "}\n",
       "#T_916b2_row8_col4, #T_916b2_row8_col6 {\n",
       "  background-color: #eee9f3;\n",
       "  color: #000000;\n",
       "}\n",
       "#T_916b2_row8_col5 {\n",
       "  background-color: #e6e2ef;\n",
       "  color: #000000;\n",
       "}\n",
       "#T_916b2_row8_col7 {\n",
       "  background-color: #d0d1e6;\n",
       "  color: #000000;\n",
       "}\n",
       "</style>\n",
       "<table id=\"T_916b2\">\n",
       "  <thead>\n",
       "    <tr>\n",
       "      <th class=\"blank level0\" >&nbsp;</th>\n",
       "      <th id=\"T_916b2_level0_col0\" class=\"col_heading level0 col0\" >latitude</th>\n",
       "      <th id=\"T_916b2_level0_col1\" class=\"col_heading level0 col1\" >longitude</th>\n",
       "      <th id=\"T_916b2_level0_col2\" class=\"col_heading level0 col2\" >price</th>\n",
       "      <th id=\"T_916b2_level0_col3\" class=\"col_heading level0 col3\" >minimum_nights</th>\n",
       "      <th id=\"T_916b2_level0_col4\" class=\"col_heading level0 col4\" >number_of_reviews</th>\n",
       "      <th id=\"T_916b2_level0_col5\" class=\"col_heading level0 col5\" >last_review</th>\n",
       "      <th id=\"T_916b2_level0_col6\" class=\"col_heading level0 col6\" >reviews_per_month</th>\n",
       "      <th id=\"T_916b2_level0_col7\" class=\"col_heading level0 col7\" >calculated_host_listings_count</th>\n",
       "      <th id=\"T_916b2_level0_col8\" class=\"col_heading level0 col8\" >availability_365</th>\n",
       "    </tr>\n",
       "  </thead>\n",
       "  <tbody>\n",
       "    <tr>\n",
       "      <th id=\"T_916b2_level0_row0\" class=\"row_heading level0 row0\" >latitude</th>\n",
       "      <td id=\"T_916b2_row0_col0\" class=\"data row0 col0\" >1.000000</td>\n",
       "      <td id=\"T_916b2_row0_col1\" class=\"data row0 col1\" >0.246657</td>\n",
       "      <td id=\"T_916b2_row0_col2\" class=\"data row0 col2\" >0.037647</td>\n",
       "      <td id=\"T_916b2_row0_col3\" class=\"data row0 col3\" >0.004586</td>\n",
       "      <td id=\"T_916b2_row0_col4\" class=\"data row0 col4\" >-0.049415</td>\n",
       "      <td id=\"T_916b2_row0_col5\" class=\"data row0 col5\" >-0.061073</td>\n",
       "      <td id=\"T_916b2_row0_col6\" class=\"data row0 col6\" >-0.028985</td>\n",
       "      <td id=\"T_916b2_row0_col7\" class=\"data row0 col7\" >-0.000796</td>\n",
       "      <td id=\"T_916b2_row0_col8\" class=\"data row0 col8\" >0.001133</td>\n",
       "    </tr>\n",
       "    <tr>\n",
       "      <th id=\"T_916b2_level0_row1\" class=\"row_heading level0 row1\" >longitude</th>\n",
       "      <td id=\"T_916b2_row1_col0\" class=\"data row1 col0\" >0.246657</td>\n",
       "      <td id=\"T_916b2_row1_col1\" class=\"data row1 col1\" >1.000000</td>\n",
       "      <td id=\"T_916b2_row1_col2\" class=\"data row1 col2\" >0.051922</td>\n",
       "      <td id=\"T_916b2_row1_col3\" class=\"data row1 col3\" >-0.016257</td>\n",
       "      <td id=\"T_916b2_row1_col4\" class=\"data row1 col4\" >-0.054029</td>\n",
       "      <td id=\"T_916b2_row1_col5\" class=\"data row1 col5\" >-0.089331</td>\n",
       "      <td id=\"T_916b2_row1_col6\" class=\"data row1 col6\" >0.023903</td>\n",
       "      <td id=\"T_916b2_row1_col7\" class=\"data row1 col7\" >-0.054008</td>\n",
       "      <td id=\"T_916b2_row1_col8\" class=\"data row1 col8\" >-0.000624</td>\n",
       "    </tr>\n",
       "    <tr>\n",
       "      <th id=\"T_916b2_level0_row2\" class=\"row_heading level0 row2\" >price</th>\n",
       "      <td id=\"T_916b2_row2_col0\" class=\"data row2 col0\" >0.037647</td>\n",
       "      <td id=\"T_916b2_row2_col1\" class=\"data row2 col1\" >0.051922</td>\n",
       "      <td id=\"T_916b2_row2_col2\" class=\"data row2 col2\" >1.000000</td>\n",
       "      <td id=\"T_916b2_row2_col3\" class=\"data row2 col3\" >-0.014658</td>\n",
       "      <td id=\"T_916b2_row2_col4\" class=\"data row2 col4\" >-0.074793</td>\n",
       "      <td id=\"T_916b2_row2_col5\" class=\"data row2 col5\" >-0.161354</td>\n",
       "      <td id=\"T_916b2_row2_col6\" class=\"data row2 col6\" >-0.041010</td>\n",
       "      <td id=\"T_916b2_row2_col7\" class=\"data row2 col7\" >0.057652</td>\n",
       "      <td id=\"T_916b2_row2_col8\" class=\"data row2 col8\" >0.061795</td>\n",
       "    </tr>\n",
       "    <tr>\n",
       "      <th id=\"T_916b2_level0_row3\" class=\"row_heading level0 row3\" >minimum_nights</th>\n",
       "      <td id=\"T_916b2_row3_col0\" class=\"data row3 col0\" >0.004586</td>\n",
       "      <td id=\"T_916b2_row3_col1\" class=\"data row3 col1\" >-0.016257</td>\n",
       "      <td id=\"T_916b2_row3_col2\" class=\"data row3 col2\" >-0.014658</td>\n",
       "      <td id=\"T_916b2_row3_col3\" class=\"data row3 col3\" >1.000000</td>\n",
       "      <td id=\"T_916b2_row3_col4\" class=\"data row3 col4\" >-0.043536</td>\n",
       "      <td id=\"T_916b2_row3_col5\" class=\"data row3 col5\" >-0.045839</td>\n",
       "      <td id=\"T_916b2_row3_col6\" class=\"data row3 col6\" >-0.069528</td>\n",
       "      <td id=\"T_916b2_row3_col7\" class=\"data row3 col7\" >-0.022443</td>\n",
       "      <td id=\"T_916b2_row3_col8\" class=\"data row3 col8\" >0.029423</td>\n",
       "    </tr>\n",
       "    <tr>\n",
       "      <th id=\"T_916b2_level0_row4\" class=\"row_heading level0 row4\" >number_of_reviews</th>\n",
       "      <td id=\"T_916b2_row4_col0\" class=\"data row4 col0\" >-0.049415</td>\n",
       "      <td id=\"T_916b2_row4_col1\" class=\"data row4 col1\" >-0.054029</td>\n",
       "      <td id=\"T_916b2_row4_col2\" class=\"data row4 col2\" >-0.074793</td>\n",
       "      <td id=\"T_916b2_row4_col3\" class=\"data row4 col3\" >-0.043536</td>\n",
       "      <td id=\"T_916b2_row4_col4\" class=\"data row4 col4\" >1.000000</td>\n",
       "      <td id=\"T_916b2_row4_col5\" class=\"data row4 col5\" >0.288836</td>\n",
       "      <td id=\"T_916b2_row4_col6\" class=\"data row4 col6\" >0.659177</td>\n",
       "      <td id=\"T_916b2_row4_col7\" class=\"data row4 col7\" >-0.062933</td>\n",
       "      <td id=\"T_916b2_row4_col8\" class=\"data row4 col8\" >0.044483</td>\n",
       "    </tr>\n",
       "    <tr>\n",
       "      <th id=\"T_916b2_level0_row5\" class=\"row_heading level0 row5\" >last_review</th>\n",
       "      <td id=\"T_916b2_row5_col0\" class=\"data row5 col0\" >-0.061073</td>\n",
       "      <td id=\"T_916b2_row5_col1\" class=\"data row5 col1\" >-0.089331</td>\n",
       "      <td id=\"T_916b2_row5_col2\" class=\"data row5 col2\" >-0.161354</td>\n",
       "      <td id=\"T_916b2_row5_col3\" class=\"data row5 col3\" >-0.045839</td>\n",
       "      <td id=\"T_916b2_row5_col4\" class=\"data row5 col4\" >0.288836</td>\n",
       "      <td id=\"T_916b2_row5_col5\" class=\"data row5 col5\" >1.000000</td>\n",
       "      <td id=\"T_916b2_row5_col6\" class=\"data row5 col6\" >0.386139</td>\n",
       "      <td id=\"T_916b2_row5_col7\" class=\"data row5 col7\" >0.009144</td>\n",
       "      <td id=\"T_916b2_row5_col8\" class=\"data row5 col8\" >0.017389</td>\n",
       "    </tr>\n",
       "    <tr>\n",
       "      <th id=\"T_916b2_level0_row6\" class=\"row_heading level0 row6\" >reviews_per_month</th>\n",
       "      <td id=\"T_916b2_row6_col0\" class=\"data row6 col0\" >-0.028985</td>\n",
       "      <td id=\"T_916b2_row6_col1\" class=\"data row6 col1\" >0.023903</td>\n",
       "      <td id=\"T_916b2_row6_col2\" class=\"data row6 col2\" >-0.041010</td>\n",
       "      <td id=\"T_916b2_row6_col3\" class=\"data row6 col3\" >-0.069528</td>\n",
       "      <td id=\"T_916b2_row6_col4\" class=\"data row6 col4\" >0.659177</td>\n",
       "      <td id=\"T_916b2_row6_col5\" class=\"data row6 col5\" >0.386139</td>\n",
       "      <td id=\"T_916b2_row6_col6\" class=\"data row6 col6\" >1.000000</td>\n",
       "      <td id=\"T_916b2_row6_col7\" class=\"data row6 col7\" >-0.105144</td>\n",
       "      <td id=\"T_916b2_row6_col8\" class=\"data row6 col8\" >0.018325</td>\n",
       "    </tr>\n",
       "    <tr>\n",
       "      <th id=\"T_916b2_level0_row7\" class=\"row_heading level0 row7\" >calculated_host_listings_count</th>\n",
       "      <td id=\"T_916b2_row7_col0\" class=\"data row7 col0\" >-0.000796</td>\n",
       "      <td id=\"T_916b2_row7_col1\" class=\"data row7 col1\" >-0.054008</td>\n",
       "      <td id=\"T_916b2_row7_col2\" class=\"data row7 col2\" >0.057652</td>\n",
       "      <td id=\"T_916b2_row7_col3\" class=\"data row7 col3\" >-0.022443</td>\n",
       "      <td id=\"T_916b2_row7_col4\" class=\"data row7 col4\" >-0.062933</td>\n",
       "      <td id=\"T_916b2_row7_col5\" class=\"data row7 col5\" >0.009144</td>\n",
       "      <td id=\"T_916b2_row7_col6\" class=\"data row7 col6\" >-0.105144</td>\n",
       "      <td id=\"T_916b2_row7_col7\" class=\"data row7 col7\" >1.000000</td>\n",
       "      <td id=\"T_916b2_row7_col8\" class=\"data row7 col8\" >0.174474</td>\n",
       "    </tr>\n",
       "    <tr>\n",
       "      <th id=\"T_916b2_level0_row8\" class=\"row_heading level0 row8\" >availability_365</th>\n",
       "      <td id=\"T_916b2_row8_col0\" class=\"data row8 col0\" >0.001133</td>\n",
       "      <td id=\"T_916b2_row8_col1\" class=\"data row8 col1\" >-0.000624</td>\n",
       "      <td id=\"T_916b2_row8_col2\" class=\"data row8 col2\" >0.061795</td>\n",
       "      <td id=\"T_916b2_row8_col3\" class=\"data row8 col3\" >0.029423</td>\n",
       "      <td id=\"T_916b2_row8_col4\" class=\"data row8 col4\" >0.044483</td>\n",
       "      <td id=\"T_916b2_row8_col5\" class=\"data row8 col5\" >0.017389</td>\n",
       "      <td id=\"T_916b2_row8_col6\" class=\"data row8 col6\" >0.018325</td>\n",
       "      <td id=\"T_916b2_row8_col7\" class=\"data row8 col7\" >0.174474</td>\n",
       "      <td id=\"T_916b2_row8_col8\" class=\"data row8 col8\" >1.000000</td>\n",
       "    </tr>\n",
       "  </tbody>\n",
       "</table>\n"
      ],
      "text/plain": [
       "<pandas.io.formats.style.Styler at 0x22173e75a50>"
      ]
     },
     "execution_count": 236,
     "metadata": {},
     "output_type": "execute_result"
    }
   ],
   "source": [
    "target = ['latitude', 'longitude', 'price', 'minimum_nights', 'number_of_reviews', 'last_review', 'reviews_per_month',\n",
    "         'calculated_host_listings_count', 'availability_365']\n",
    "\n",
    "# Se muestra la correlación entre estas cuatro columnas y se colorea cada una de ellas según su importancia \n",
    "# con 'DataFrame.style.background_gradient()'\n",
    "df_listing_summary[target].corr(method='pearson').style.background_gradient()"
   ]
  },
  {
   "cell_type": "markdown",
   "id": "39bf0161-e2f9-4058-88ab-c6604f3ac339",
   "metadata": {},
   "source": [
    "Se puede ver como hay una correlación positiva alta entre el número de `reviews` y las `reviews` por mes. En cuánto al precio, no parece que haya ninguna variable numérica que influya en ella positiva o negativamente. <br>\n",
    "Por otra parte, en este `dataframe` aparece información sobre los distritos de Madrid. Se realiza un diagrama de cajas para ver como se distribuye el precio en cada uno de estos distritos (sin valores atípicos, para ver la gráfica con más claridad):"
   ]
  },
  {
   "cell_type": "code",
   "execution_count": 327,
   "id": "4de5a543-9da7-429c-aa0a-0b8b92e3483e",
   "metadata": {},
   "outputs": [
    {
     "data": {
      "image/png": "[encoded data removed]",
      "text/plain": [
       "<Figure size 640x480 with 1 Axes>"
      ]
     },
     "metadata": {},
     "output_type": "display_data"
    }
   ],
   "source": [
    "# Diagrama de cajas sin outliers (showfliers es False)\n",
    "sns.boxplot(data=df_listing_summary, x='price', y='neighbourhood_group', showfliers=False)\n",
    "\n",
    "# Se establece el título, los 'ticks' en el eje X y los 'labels' de la gráfica\n",
    "plt.title('Precios de alquiler por distrito de Madrid', pad=5, fontsize=12)\n",
    "plt.xlabel('Precios (en dólares)', labelpad=10, fontsize=10)\n",
    "plt.ylabel('Distritos', labelpad=10, fontsize=10)\n",
    "plt.xticks(rotation = 65, ha='right');"
   ]
  },
  {
   "cell_type": "markdown",
   "id": "9191d037-f300-4892-aff9-3ba8f78edecf",
   "metadata": {},
   "source": [
    "Como se puede ver en el diagrama de cajas, según las medianas los precios más altos están en distritos como los de San Blas - Canillejas, Salamanca o Chamartín. En cambio, los más bajos están en distritos como Carabanchel, Villaverde o Puente de Vallecas. El máximo (sin valores atípicos) se da claramente en el distrito de San Blas - Canillejas, con un precio de más de 1000 dólares."
   ]
  },
  {
   "cell_type": "markdown",
   "id": "63ab77e3-3553-4ac2-99e8-21cd065c5225",
   "metadata": {},
   "source": [
    "También se puede hacer un diagrama de violínes para ver la distribución de los precios en cada uno de los tipos de habitaciones ofertados:"
   ]
  },
  {
   "cell_type": "code",
   "execution_count": 238,
   "id": "0cd5b7f9-81b4-48b6-88c8-cf40c4b7ddb6",
   "metadata": {},
   "outputs": [
    {
     "data": {
      "image/png": "[encoded data removed]",
      "text/plain": [
       "<Figure size 640x480 with 1 Axes>"
      ]
     },
     "metadata": {},
     "output_type": "display_data"
    }
   ],
   "source": [
    "# Diagrama de violines (limitando el eje X para ver mejor la gráfica)\n",
    "ax = sns.violinplot(data=df_listing_summary, x='price', y='room_type', inner='box')\n",
    "ax.set(xlim=(-100, 1100))\n",
    "\n",
    "# Se establece el título, los 'ticks' en el eje X y los 'labels' de la gráfica\n",
    "plt.title('Precios de alquiler por tipo de habitación', pad=5, fontsize=12)\n",
    "plt.xlabel('Precios (en dólares)', labelpad=10, fontsize=10)\n",
    "plt.ylabel('Tipo de habitación', labelpad=10, fontsize=10)\n",
    "plt.xticks(rotation = 65, ha='right');"
   ]
  },
  {
   "cell_type": "markdown",
   "id": "eec2082b-3625-4f7d-92d6-dd31979bb20a",
   "metadata": {},
   "source": [
    "En esta ocasión se puede ver como los precios más caros son de habitaciones de hoteles y de casas/apartamentos enteros, mientras que los precios más bajos son de habitaciones privadas y habitaciones compartidas."
   ]
  },
  {
   "cell_type": "markdown",
   "id": "e5bfa4ff-25d9-43b8-8992-093c376ca496",
   "metadata": {},
   "source": [
    "Ahora pasamos a analizar un poco los datos geoespaciales. Para empezar, estaría bien mostrar el precio medio del alquiler en cada uno de los barrios de Madrid. Para ello cargamos el archivo GeoJSON y lo fusionamos con `df_listing_summary`, agrupando los resultados por barrios y calculando el precio medio del alquiler en cada uno de ellos:"
   ]
  },
  {
   "cell_type": "code",
   "execution_count": 338,
   "id": "a8a0e2e1-197d-490b-b9b1-f2262b70d111",
   "metadata": {},
   "outputs": [
    {
     "data": {
      "text/plain": [
       "<Axes: >"
      ]
     },
     "execution_count": 338,
     "metadata": {},
     "output_type": "execute_result"
    },
    {
     "data": {
      "image/png": "[encoded data removed]",
      "text/plain": [
       "<Figure size 640x480 with 2 Axes>"
      ]
     },
     "metadata": {},
     "output_type": "display_data"
    }
   ],
   "source": [
    "# Archivo GeoJSON con todos los barrios de Madrid\n",
    "geojson = gpd.read_file('./dataset_nuevo/neighbourhoods.geojson')\n",
    "\n",
    "# Se fusiona el archivo GeoJSON con las dos columnas de 'df_listing_summary', agrupando el GeoDataframe\n",
    "# por barrio, calculando la media de los precios. Por último se dibuja el mapa de calor\n",
    "geojson.merge(df_listing_summary[['price', 'neighbourhood']], on = 'neighbourhood') \\\n",
    "                .dissolve(by='neighbourhood', aggfunc={\"price\": \"mean\"}) \\\n",
    "                .plot('price', cmap = 'inferno', legend=True)"
   ]
  },
  {
   "cell_type": "markdown",
   "id": "383af544-9e46-4700-aa2b-0023a01d8f18",
   "metadata": {},
   "source": [
    "La información mostrada aquí muestra que los precios de alquiler medios más caros están en barrios como Canillejas, Arcos o Zofío. Por otro lado, los precios medios más baratos se encuentran en barrios como Horcajo, Aluche o Vista Alegre."
   ]
  },
  {
   "cell_type": "markdown",
   "id": "affbd140-7a9c-4b90-8ec1-823ce8d6a99a",
   "metadata": {},
   "source": [
    "### Detalle de las publicaciones"
   ]
  },
  {
   "cell_type": "code",
   "execution_count": null,
   "id": "0eeca003-8197-4671-978f-754fd0167891",
   "metadata": {},
   "outputs": [],
   "source": []
  },
  {
   "cell_type": "code",
   "execution_count": null,
   "id": "1273994c-0c9c-4c15-a49a-936e8ff6baa7",
   "metadata": {},
   "outputs": [],
   "source": []
  },
  {
   "cell_type": "code",
   "execution_count": null,
   "id": "c1f7986f-eae5-411b-ba04-5c0ce3ea031f",
   "metadata": {},
   "outputs": [],
   "source": []
  },
  {
   "cell_type": "code",
   "execution_count": null,
   "id": "d62f062c-1b42-4b61-8d40-c76940c8e3ac",
   "metadata": {},
   "outputs": [],
   "source": []
  },
  {
   "cell_type": "code",
   "execution_count": null,
   "id": "7acedd4f-5326-41d5-bf7d-bce29b255ea5",
   "metadata": {},
   "outputs": [],
   "source": []
  },
  {
   "cell_type": "code",
   "execution_count": null,
   "id": "4fe5e765-7b7f-4760-a49e-6115dd7f744d",
   "metadata": {},
   "outputs": [],
   "source": []
  },
  {
   "cell_type": "code",
   "execution_count": null,
   "id": "c2309550-6932-46de-b93e-0cb081a8c231",
   "metadata": {},
   "outputs": [],
   "source": []
  },
  {
   "cell_type": "code",
   "execution_count": null,
   "id": "87ecb02e-c503-4979-82c3-8f190d3ad9bb",
   "metadata": {},
   "outputs": [],
   "source": []
  },
  {
   "cell_type": "code",
   "execution_count": null,
   "id": "d90e63e4-6201-4ee4-869b-4551f242cecf",
   "metadata": {},
   "outputs": [],
   "source": []
  },
  {
   "cell_type": "code",
   "execution_count": null,
   "id": "ad65c1be-9459-4b5a-ba13-14af82685d22",
   "metadata": {},
   "outputs": [],
   "source": []
  },
  {
   "cell_type": "code",
   "execution_count": null,
   "id": "19da401c-e0e2-43dc-9fbc-69ad27d244c4",
   "metadata": {},
   "outputs": [],
   "source": []
  },
  {
   "cell_type": "code",
   "execution_count": null,
   "id": "cdb6952d-25bc-40e2-a16b-a4fd5a2dde3a",
   "metadata": {},
   "outputs": [],
   "source": []
  },
  {
   "cell_type": "code",
   "execution_count": null,
   "id": "87c31b4e-3f32-4532-9e7f-07fdddc4066e",
   "metadata": {},
   "outputs": [],
   "source": []
  },
  {
   "cell_type": "code",
   "execution_count": 228,
   "id": "0979a668-ad30-4644-804a-1bdff6edbe4f",
   "metadata": {},
   "outputs": [
    {
     "data": {
      "text/html": [
       "<div>\n",
       "<style scoped>\n",
       "    .dataframe tbody tr th:only-of-type {\n",
       "        vertical-align: middle;\n",
       "    }\n",
       "\n",
       "    .dataframe tbody tr th {\n",
       "        vertical-align: top;\n",
       "    }\n",
       "\n",
       "    .dataframe thead th {\n",
       "        text-align: right;\n",
       "    }\n",
       "</style>\n",
       "<table border=\"1\" class=\"dataframe\">\n",
       "  <thead>\n",
       "    <tr style=\"text-align: right;\">\n",
       "      <th></th>\n",
       "      <th>neighbourhood_group</th>\n",
       "      <th>neighbourhood</th>\n",
       "    </tr>\n",
       "  </thead>\n",
       "  <tbody>\n",
       "    <tr>\n",
       "      <th>12</th>\n",
       "      <td>Carabanchel</td>\n",
       "      <td>Abrantes</td>\n",
       "    </tr>\n",
       "    <tr>\n",
       "      <th>0</th>\n",
       "      <td>Arganzuela</td>\n",
       "      <td>Acacias</td>\n",
       "    </tr>\n",
       "    <tr>\n",
       "      <th>86</th>\n",
       "      <td>Retiro</td>\n",
       "      <td>Adelfas</td>\n",
       "    </tr>\n",
       "    <tr>\n",
       "      <th>7</th>\n",
       "      <td>Barajas</td>\n",
       "      <td>Aeropuerto</td>\n",
       "    </tr>\n",
       "    <tr>\n",
       "      <th>60</th>\n",
       "      <td>Latina</td>\n",
       "      <td>Aguilas</td>\n",
       "    </tr>\n",
       "  </tbody>\n",
       "</table>\n",
       "</div>"
      ],
      "text/plain": [
       "   neighbourhood_group neighbourhood\n",
       "12         Carabanchel      Abrantes\n",
       "0           Arganzuela       Acacias\n",
       "86              Retiro       Adelfas\n",
       "7              Barajas    Aeropuerto\n",
       "60              Latina       Aguilas"
      ]
     },
     "execution_count": 228,
     "metadata": {},
     "output_type": "execute_result"
    }
   ],
   "source": [
    "# Dataframe de la lista de barrios\n",
    "df_geojson = pd.read_csv('./dataset_nuevo/neighbourhoods.csv', sep=',').sort_values(by='neighbourhood')\n",
    "df_geojson.head()"
   ]
  },
  {
   "cell_type": "code",
   "execution_count": 229,
   "id": "4049d644-7c63-48a2-84f8-7496f9c74378",
   "metadata": {},
   "outputs": [
    {
     "data": {
      "text/html": [
       "<div>\n",
       "<style scoped>\n",
       "    .dataframe tbody tr th:only-of-type {\n",
       "        vertical-align: middle;\n",
       "    }\n",
       "\n",
       "    .dataframe tbody tr th {\n",
       "        vertical-align: top;\n",
       "    }\n",
       "\n",
       "    .dataframe thead th {\n",
       "        text-align: right;\n",
       "    }\n",
       "</style>\n",
       "<table border=\"1\" class=\"dataframe\">\n",
       "  <thead>\n",
       "    <tr style=\"text-align: right;\">\n",
       "      <th></th>\n",
       "      <th>neighbourhood</th>\n",
       "      <th>neighbourhood_group</th>\n",
       "      <th>geometry</th>\n",
       "    </tr>\n",
       "  </thead>\n",
       "  <tbody>\n",
       "    <tr>\n",
       "      <th>74</th>\n",
       "      <td>Abrantes</td>\n",
       "      <td>Carabanchel</td>\n",
       "      <td>MULTIPOLYGON (((-3.72173 40.38525, -3.72105 40...</td>\n",
       "    </tr>\n",
       "    <tr>\n",
       "      <th>7</th>\n",
       "      <td>Acacias</td>\n",
       "      <td>Arganzuela</td>\n",
       "      <td>MULTIPOLYGON (((-3.70379 40.40521, -3.70288 40...</td>\n",
       "    </tr>\n",
       "    <tr>\n",
       "      <th>14</th>\n",
       "      <td>Adelfas</td>\n",
       "      <td>Retiro</td>\n",
       "      <td>MULTIPOLYGON (((-3.67283 40.39468, -3.67343 40...</td>\n",
       "    </tr>\n",
       "    <tr>\n",
       "      <th>125</th>\n",
       "      <td>Aeropuerto</td>\n",
       "      <td>Barajas</td>\n",
       "      <td>MULTIPOLYGON (((-3.57786 40.51038, -3.57579 40...</td>\n",
       "    </tr>\n",
       "    <tr>\n",
       "      <th>68</th>\n",
       "      <td>Aguilas</td>\n",
       "      <td>Latina</td>\n",
       "      <td>MULTIPOLYGON (((-3.77000 40.39261, -3.76742 40...</td>\n",
       "    </tr>\n",
       "    <tr>\n",
       "      <th>...</th>\n",
       "      <td>...</td>\n",
       "      <td>...</td>\n",
       "      <td>...</td>\n",
       "    </tr>\n",
       "    <tr>\n",
       "      <th>51</th>\n",
       "      <td>Valverde</td>\n",
       "      <td>Fuencarral - El Pardo</td>\n",
       "      <td>MULTIPOLYGON (((-3.65851 40.51168, -3.65780 40...</td>\n",
       "    </tr>\n",
       "    <tr>\n",
       "      <th>91</th>\n",
       "      <td>Ventas</td>\n",
       "      <td>Ciudad Lineal</td>\n",
       "      <td>MULTIPOLYGON (((-3.62669 40.41587, -3.62750 40...</td>\n",
       "    </tr>\n",
       "    <tr>\n",
       "      <th>90</th>\n",
       "      <td>Vinateros</td>\n",
       "      <td>Moratalaz</td>\n",
       "      <td>MULTIPOLYGON (((-3.63936 40.40622, -3.63932 40...</td>\n",
       "    </tr>\n",
       "    <tr>\n",
       "      <th>71</th>\n",
       "      <td>Vista Alegre</td>\n",
       "      <td>Carabanchel</td>\n",
       "      <td>MULTIPOLYGON (((-3.73939 40.38465, -3.74091 40...</td>\n",
       "    </tr>\n",
       "    <tr>\n",
       "      <th>80</th>\n",
       "      <td>Zofío</td>\n",
       "      <td>Usera</td>\n",
       "      <td>MULTIPOLYGON (((-3.71203 40.37781, -3.71223 40...</td>\n",
       "    </tr>\n",
       "  </tbody>\n",
       "</table>\n",
       "<p>128 rows × 3 columns</p>\n",
       "</div>"
      ],
      "text/plain": [
       "    neighbourhood    neighbourhood_group  \\\n",
       "74       Abrantes            Carabanchel   \n",
       "7         Acacias             Arganzuela   \n",
       "14        Adelfas                 Retiro   \n",
       "125    Aeropuerto                Barajas   \n",
       "68        Aguilas                 Latina   \n",
       "..            ...                    ...   \n",
       "51       Valverde  Fuencarral - El Pardo   \n",
       "91         Ventas          Ciudad Lineal   \n",
       "90      Vinateros              Moratalaz   \n",
       "71   Vista Alegre            Carabanchel   \n",
       "80          Zofío                  Usera   \n",
       "\n",
       "                                              geometry  \n",
       "74   MULTIPOLYGON (((-3.72173 40.38525, -3.72105 40...  \n",
       "7    MULTIPOLYGON (((-3.70379 40.40521, -3.70288 40...  \n",
       "14   MULTIPOLYGON (((-3.67283 40.39468, -3.67343 40...  \n",
       "125  MULTIPOLYGON (((-3.57786 40.51038, -3.57579 40...  \n",
       "68   MULTIPOLYGON (((-3.77000 40.39261, -3.76742 40...  \n",
       "..                                                 ...  \n",
       "51   MULTIPOLYGON (((-3.65851 40.51168, -3.65780 40...  \n",
       "91   MULTIPOLYGON (((-3.62669 40.41587, -3.62750 40...  \n",
       "90   MULTIPOLYGON (((-3.63936 40.40622, -3.63932 40...  \n",
       "71   MULTIPOLYGON (((-3.73939 40.38465, -3.74091 40...  \n",
       "80   MULTIPOLYGON (((-3.71203 40.37781, -3.71223 40...  \n",
       "\n",
       "[128 rows x 3 columns]"
      ]
     },
     "execution_count": 229,
     "metadata": {},
     "output_type": "execute_result"
    }
   ],
   "source": [
    "# Archivo GeoJSON con todos los barrios de Madrid\n",
    "geojson = gpd.read_file('./dataset_nuevo/neighbourhoods.geojson').sort_values(by='neighbourhood')\n",
    "\n",
    "# El dataframe se pasa a JSON\n",
    "geojson"
   ]
  },
  {
   "cell_type": "code",
   "execution_count": null,
   "id": "66519684-1a2e-4826-9b9a-8b82aa44d7ae",
   "metadata": {},
   "outputs": [],
   "source": []
  },
  {
   "cell_type": "code",
   "execution_count": null,
   "id": "064a823c-4652-4b31-9243-50ecf66a00b9",
   "metadata": {},
   "outputs": [],
   "source": []
  },
  {
   "cell_type": "code",
   "execution_count": null,
   "id": "c0ccfef9-4ab0-48a3-bb20-d55c2ddb396a",
   "metadata": {},
   "outputs": [],
   "source": []
  },
  {
   "cell_type": "code",
   "execution_count": null,
   "id": "65596638-3b46-46b9-88bb-3c78f14e051b",
   "metadata": {},
   "outputs": [],
   "source": []
  },
  {
   "cell_type": "code",
   "execution_count": null,
   "id": "1e167959-b5c4-48d0-bbb8-4952654fabb5",
   "metadata": {},
   "outputs": [],
   "source": [
    "df_listing = pd.read_csv('./dataset_nuevo/listings.csv.gz', sep=',', index_col='id')\n",
    "df_listing.head()"
   ]
  },
  {
   "cell_type": "code",
   "execution_count": null,
   "id": "9dab7349-a703-40c4-934a-e6dedcdd4112",
   "metadata": {},
   "outputs": [],
   "source": []
  },
  {
   "cell_type": "code",
   "execution_count": null,
   "id": "9ad4e56b-e2a9-46dd-b937-63f0f1d4235b",
   "metadata": {},
   "outputs": [],
   "source": []
  },
  {
   "cell_type": "code",
   "execution_count": 58,
   "id": "49f37386-8ebb-4bef-8d0d-a581e6b98300",
   "metadata": {},
   "outputs": [
    {
     "name": "stdout",
     "output_type": "stream",
     "text": [
      "<class 'pandas.core.frame.DataFrame'>\n",
      "Index: 21495 entries, 6369 to 41452557\n",
      "Data columns (total 15 columns):\n",
      " #   Column                          Non-Null Count  Dtype         \n",
      "---  ------                          --------------  -----         \n",
      " 0   name                            21492 non-null  object        \n",
      " 1   host_id                         21495 non-null  int64         \n",
      " 2   host_name                       21470 non-null  object        \n",
      " 3   neighbourhood_group             21495 non-null  object        \n",
      " 4   neighbourhood                   21495 non-null  object        \n",
      " 5   latitude                        21495 non-null  float64       \n",
      " 6   longitude                       21495 non-null  float64       \n",
      " 7   room_type                       21495 non-null  object        \n",
      " 8   price                           21495 non-null  int64         \n",
      " 9   minimum_nights                  21495 non-null  int64         \n",
      " 10  number_of_reviews               21495 non-null  int64         \n",
      " 11  last_review                     17204 non-null  datetime64[ns]\n",
      " 12  reviews_per_month               17204 non-null  float64       \n",
      " 13  calculated_host_listings_count  21495 non-null  int64         \n",
      " 14  availability_365                21495 non-null  int64         \n",
      "dtypes: datetime64[ns](1), float64(3), int64(6), object(5)\n",
      "memory usage: 2.6+ MB\n"
     ]
    }
   ],
   "source": [
    "df_listing_summary.info()"
   ]
  },
  {
   "cell_type": "markdown",
   "id": "a8540d4e-2418-4e5a-a52e-f5a2ddaa6b11",
   "metadata": {},
   "source": [
    "Puede observarse que existen valores perdidos en este conjunto, y que la codificación de los datos es correcta."
   ]
  },
  {
   "cell_type": "code",
   "execution_count": null,
   "id": "b052ac57-da95-4605-b808-ca4fd15acb88",
   "metadata": {},
   "outputs": [],
   "source": []
  }
 ],
 "metadata": {
  "kernelspec": {
   "display_name": "Python 3 (ipykernel)",
   "language": "python",
   "name": "python3"
  },
  "language_info": {
   "codemirror_mode": {
    "name": "ipython",
    "version": 3
   },
   "file_extension": ".py",
   "mimetype": "text/x-python",
   "name": "python",
   "nbconvert_exporter": "python",
   "pygments_lexer": "ipython3",
   "version": "3.11.5"
  }
 },
 "nbformat": 4,
 "nbformat_minor": 5
}
